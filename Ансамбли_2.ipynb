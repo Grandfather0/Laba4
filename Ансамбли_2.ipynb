{
 "cells": [
  {
   "cell_type": "markdown",
   "id": "3085ec43-34bb-4afb-9515-517e0489db3e",
   "metadata": {
    "id": "3085ec43-34bb-4afb-9515-517e0489db3e"
   },
   "source": [
    "## Ансамбли и полносвязные нейронные сети\n",
    "В этом ноутбуке вам нужно обучить модели на датасете классификации из предыдущего ноутбука и сравнить результаты. Вам будет предоставлен baseline, на основе которого вы будете доделывать предсказывающие модели. Оценка лабы будет зависеть от ROC-AUC на тестовых данных по следующим критериям:\n",
    "\\\n",
    "AUC - на тестовых данных\n",
    "- $AUC \\leq 0.76$ - 0 баллов\n",
    "- $0.76 < AUC \\leq 0.77$ - 2 балла\n",
    "- $0.77 < AUC \\leq 0.78$ - 4 балла\n",
    "- $0.78 < AUC \\leq 0.79$ - 6 баллов\n",
    "- $0.79 < AUC \\leq 0.80$ - 8 баллов\n",
    "- $AUC > 0.80$ - 10 баллов\n"
   ]
  },
  {
   "cell_type": "code",
   "execution_count": 1,
   "id": "bIhnqzqamfTf",
   "metadata": {
    "colab": {
     "base_uri": "https://localhost:8080/"
    },
    "id": "bIhnqzqamfTf",
    "outputId": "a4478f43-2c20-4947-a9a3-a651ac01fd7e"
   },
   "outputs": [
    {
     "name": "stdout",
     "output_type": "stream",
     "text": [
      "Requirement already satisfied: optuna in c:\\users\\owner\\appdata\\local\\programs\\python\\python310\\lib\\site-packages (4.0.0)\n",
      "Requirement already satisfied: alembic>=1.5.0 in c:\\users\\owner\\appdata\\local\\programs\\python\\python310\\lib\\site-packages (from optuna) (1.13.3)\n",
      "Requirement already satisfied: colorlog in c:\\users\\owner\\appdata\\local\\programs\\python\\python310\\lib\\site-packages (from optuna) (6.9.0)\n",
      "Requirement already satisfied: numpy in c:\\users\\owner\\appdata\\local\\programs\\python\\python310\\lib\\site-packages (from optuna) (1.26.4)\n",
      "Requirement already satisfied: packaging>=20.0 in c:\\users\\owner\\appdata\\local\\programs\\python\\python310\\lib\\site-packages (from optuna) (24.0)\n",
      "Requirement already satisfied: sqlalchemy>=1.3.0 in c:\\users\\owner\\appdata\\local\\programs\\python\\python310\\lib\\site-packages (from optuna) (2.0.36)\n",
      "Requirement already satisfied: tqdm in c:\\users\\owner\\appdata\\local\\programs\\python\\python310\\lib\\site-packages (from optuna) (4.66.4)\n",
      "Requirement already satisfied: PyYAML in c:\\users\\owner\\appdata\\local\\programs\\python\\python310\\lib\\site-packages (from optuna) (6.0.1)\n",
      "Requirement already satisfied: Mako in c:\\users\\owner\\appdata\\local\\programs\\python\\python310\\lib\\site-packages (from alembic>=1.5.0->optuna) (1.3.6)\n",
      "Requirement already satisfied: typing-extensions>=4 in c:\\users\\owner\\appdata\\local\\programs\\python\\python310\\lib\\site-packages (from alembic>=1.5.0->optuna) (4.9.0)\n",
      "Requirement already satisfied: greenlet!=0.4.17 in c:\\users\\owner\\appdata\\local\\programs\\python\\python310\\lib\\site-packages (from sqlalchemy>=1.3.0->optuna) (3.1.1)\n",
      "Requirement already satisfied: colorama in c:\\users\\owner\\appdata\\roaming\\python\\python310\\site-packages (from colorlog->optuna) (0.4.6)\n",
      "Requirement already satisfied: MarkupSafe>=0.9.2 in c:\\users\\owner\\appdata\\local\\programs\\python\\python310\\lib\\site-packages (from Mako->alembic>=1.5.0->optuna) (2.1.5)\n"
     ]
    },
    {
     "name": "stderr",
     "output_type": "stream",
     "text": [
      "\n",
      "[notice] A new release of pip is available: 24.0 -> 24.3.1\n",
      "[notice] To update, run: python.exe -m pip install --upgrade pip\n"
     ]
    }
   ],
   "source": [
    "!pip install optuna"
   ]
  },
  {
   "cell_type": "code",
   "execution_count": 2,
   "id": "ec07e3a2-480a-4350-868e-02679ff2aada",
   "metadata": {
    "id": "ec07e3a2-480a-4350-868e-02679ff2aada",
    "tags": []
   },
   "outputs": [],
   "source": [
    "from sklearn.ensemble import RandomForestClassifier, GradientBoostingClassifier\n",
    "from sklearn.neural_network import MLPClassifier\n",
    "\n",
    "from sklearn.metrics import roc_auc_score, precision_score, recall_score, roc_curve, accuracy_score\n",
    "\n",
    "from sklearn.model_selection import train_test_split\n",
    "\n",
    "import matplotlib.pyplot as plt\n",
    "import pandas as pd\n",
    "import numpy as np"
   ]
  },
  {
   "cell_type": "code",
   "execution_count": 3,
   "id": "563ad31b-5c83-4366-819a-34dad4edecdc",
   "metadata": {
    "collapsed": true,
    "id": "563ad31b-5c83-4366-819a-34dad4edecdc",
    "tags": []
   },
   "outputs": [],
   "source": [
    "data = pd.read_csv('german.csv', sep=';')\n",
    "data = data.drop('Foreign_Worker', axis=1)\n",
    "\n",
    "X = data.iloc[:, 1:]\n",
    "y = data.iloc[:, 0]\n",
    "\n",
    "missing_values_count = X.isnull().sum()\n",
    "X_cleaned = X.dropna() if missing_values_count.sum() < len(X) * 0.05 else X.fillna(X.median())\n",
    "\n",
    "Q1 = X_cleaned.quantile(0.25)\n",
    "Q3 = X_cleaned.quantile(0.75)\n",
    "IQR = Q3 - Q1\n",
    "\n",
    "mask = ~((X_cleaned < (Q1 - 1.5 * IQR)) | (X_cleaned > (Q3 + 1.5 * IQR))).any(axis=1)\n",
    "X_no_outliers = X_cleaned[mask]\n",
    "y_no_outliers = y[mask]\n",
    "\n",
    "X_train, X_test, y_train, y_test = train_test_split(X_no_outliers, y_no_outliers, test_size=0.2, random_state=42)"
   ]
  },
  {
   "cell_type": "code",
   "execution_count": 4,
   "id": "f93737ec-e5eb-4d72-8beb-5dba4d4c581f",
   "metadata": {
    "colab": {
     "base_uri": "https://localhost:8080/",
     "height": 472
    },
    "collapsed": true,
    "id": "f93737ec-e5eb-4d72-8beb-5dba4d4c581f",
    "outputId": "cfc4d5e5-d50b-43da-9f2d-0d7c06d68a31",
    "tags": []
   },
   "outputs": [
    {
     "data": {
      "image/png": "[encoded data removed]",
      "text/plain": [
       "<Figure size 640x480 with 1 Axes>"
      ]
     },
     "metadata": {},
     "output_type": "display_data"
    }
   ],
   "source": [
    "plt.hist(y_train, bins=2, edgecolor='k')\n",
    "plt.xticks([0, 1])\n",
    "plt.xlabel('Class (0: Non-Creditworthy, 1: Creditworthy)')\n",
    "plt.ylabel('Count')\n",
    "plt.title('Distribution of Classes in Training Data')\n",
    "plt.show()"
   ]
  },
  {
   "cell_type": "code",
   "execution_count": 5,
   "id": "rKH0qkZ1xwhb",
   "metadata": {
    "id": "rKH0qkZ1xwhb"
   },
   "outputs": [
    {
     "name": "stderr",
     "output_type": "stream",
     "text": [
      "c:\\Users\\owner\\AppData\\Local\\Programs\\Python\\Python310\\lib\\site-packages\\tqdm\\auto.py:21: TqdmWarning: IProgress not found. Please update jupyter and ipywidgets. See https://ipywidgets.readthedocs.io/en/stable/user_install.html\n",
      "  from .autonotebook import tqdm as notebook_tqdm\n"
     ]
    }
   ],
   "source": [
    "#масштабируем данные\n",
    "from sklearn.preprocessing import StandardScaler\n",
    "\n",
    "scaler = StandardScaler()\n",
    "X_train_scaled = scaler.fit_transform(X_train)\n",
    "X_test_scaled = scaler.transform(X_test)\n",
    "import optuna"
   ]
  },
  {
   "cell_type": "code",
   "execution_count": 6,
   "id": "eNNbmNuLlwKf",
   "metadata": {
    "colab": {
     "base_uri": "https://localhost:8080/"
    },
    "collapsed": true,
    "id": "eNNbmNuLlwKf",
    "outputId": "8004741d-6d75-4782-b368-ae8d38502aa9"
   },
   "outputs": [
    {
     "name": "stderr",
     "output_type": "stream",
     "text": [
      "[I 2024-10-31 22:43:06,229] A new study created in memory with name: no-name-92cdb914-592e-434f-8594-9fd7b67ceed7\n",
      "[I 2024-10-31 22:43:06,252] Trial 0 finished with value: 0.7031746031746031 and parameters: {'n_estimators': 21, 'learning_rate': 0.7042842430253615, 'max_depth': 64, 'min_samples_split': 92, 'min_samples_leaf': 18}. Best is trial 0 with value: 0.7031746031746031.\n",
      "[I 2024-10-31 22:43:06,285] Trial 1 finished with value: 0.5 and parameters: {'n_estimators': 98, 'learning_rate': 0.0013936537298261699, 'max_depth': 258, 'min_samples_split': 138, 'min_samples_leaf': 54}. Best is trial 0 with value: 0.7031746031746031.\n",
      "[I 2024-10-31 22:43:06,321] Trial 2 finished with value: 0.32222222222222224 and parameters: {'n_estimators': 76, 'learning_rate': 8.944326930393682, 'max_depth': 184, 'min_samples_split': 79, 'min_samples_leaf': 39}. Best is trial 0 with value: 0.7031746031746031.\n",
      "[I 2024-10-31 22:43:06,348] Trial 3 finished with value: 0.4888888888888889 and parameters: {'n_estimators': 42, 'learning_rate': 0.15667664524522715, 'max_depth': 242, 'min_samples_split': 172, 'min_samples_leaf': 92}. Best is trial 0 with value: 0.7031746031746031.\n",
      "[I 2024-10-31 22:43:06,415] Trial 4 finished with value: 0.6317460317460317 and parameters: {'n_estimators': 131, 'learning_rate': 0.011516487372320788, 'max_depth': 38, 'min_samples_split': 51, 'min_samples_leaf': 30}. Best is trial 0 with value: 0.7031746031746031.\n",
      "[I 2024-10-31 22:43:06,450] Trial 5 finished with value: 0.5 and parameters: {'n_estimators': 107, 'learning_rate': 0.00012012774603411094, 'max_depth': 21, 'min_samples_split': 140, 'min_samples_leaf': 65}. Best is trial 0 with value: 0.7031746031746031.\n",
      "[I 2024-10-31 22:43:06,476] Trial 6 finished with value: 0.5 and parameters: {'n_estimators': 33, 'learning_rate': 0.012884908016853538, 'max_depth': 67, 'min_samples_split': 31, 'min_samples_leaf': 8}. Best is trial 0 with value: 0.7031746031746031.\n",
      "[I 2024-10-31 22:43:06,504] Trial 7 finished with value: 0.692063492063492 and parameters: {'n_estimators': 79, 'learning_rate': 0.5311336512145424, 'max_depth': 28, 'min_samples_split': 169, 'min_samples_leaf': 60}. Best is trial 0 with value: 0.7031746031746031.\n",
      "[I 2024-10-31 22:43:06,553] Trial 8 finished with value: 0.5984126984126984 and parameters: {'n_estimators': 152, 'learning_rate': 1.6493245251126942, 'max_depth': 166, 'min_samples_split': 143, 'min_samples_leaf': 80}. Best is trial 0 with value: 0.7031746031746031.\n",
      "[I 2024-10-31 22:43:06,617] Trial 9 finished with value: 0.6428571428571428 and parameters: {'n_estimators': 188, 'learning_rate': 0.019476292286964056, 'max_depth': 462, 'min_samples_split': 161, 'min_samples_leaf': 24}. Best is trial 0 with value: 0.7031746031746031.\n",
      "[I 2024-10-31 22:43:06,636] Trial 10 finished with value: 0.719047619047619 and parameters: {'n_estimators': 11, 'learning_rate': 6.006710440615259, 'max_depth': 386, 'min_samples_split': 96, 'min_samples_leaf': 5}. Best is trial 10 with value: 0.719047619047619.\n",
      "[I 2024-10-31 22:43:06,652] Trial 11 finished with value: 0.4888888888888889 and parameters: {'n_estimators': 3, 'learning_rate': 9.622269602738495, 'max_depth': 396, 'min_samples_split': 96, 'min_samples_leaf': 1}. Best is trial 10 with value: 0.719047619047619.\n",
      "[I 2024-10-31 22:43:06,666] Trial 12 finished with value: 0.6428571428571428 and parameters: {'n_estimators': 2, 'learning_rate': 0.7833791061041447, 'max_depth': 332, 'min_samples_split': 71, 'min_samples_leaf': 18}. Best is trial 10 with value: 0.719047619047619.\n",
      "[I 2024-10-31 22:43:06,701] Trial 13 finished with value: 0.7523809523809523 and parameters: {'n_estimators': 43, 'learning_rate': 0.1403342814850159, 'max_depth': 476, 'min_samples_split': 110, 'min_samples_leaf': 40}. Best is trial 13 with value: 0.7523809523809523.\n",
      "[I 2024-10-31 22:43:06,734] Trial 14 finished with value: 0.7634920634920634 and parameters: {'n_estimators': 51, 'learning_rate': 0.10183542546957806, 'max_depth': 474, 'min_samples_split': 116, 'min_samples_leaf': 41}. Best is trial 14 with value: 0.7634920634920634.\n",
      "[I 2024-10-31 22:43:06,765] Trial 15 finished with value: 0.680952380952381 and parameters: {'n_estimators': 56, 'learning_rate': 0.09036947551101497, 'max_depth': 496, 'min_samples_split': 120, 'min_samples_leaf': 42}. Best is trial 14 with value: 0.7634920634920634.\n",
      "[I 2024-10-31 22:43:06,799] Trial 16 finished with value: 0.5 and parameters: {'n_estimators': 55, 'learning_rate': 0.0020721640392452013, 'max_depth': 400, 'min_samples_split': 13, 'min_samples_leaf': 41}. Best is trial 14 with value: 0.7634920634920634.\n",
      "[I 2024-10-31 22:43:06,835] Trial 17 finished with value: 0.7412698412698412 and parameters: {'n_estimators': 82, 'learning_rate': 0.10948805045366242, 'max_depth': 464, 'min_samples_split': 116, 'min_samples_leaf': 68}. Best is trial 14 with value: 0.7634920634920634.\n",
      "[I 2024-10-31 22:43:06,866] Trial 18 finished with value: 0.5 and parameters: {'n_estimators': 52, 'learning_rate': 0.0039284550845299455, 'max_depth': 336, 'min_samples_split': 56, 'min_samples_leaf': 48}. Best is trial 14 with value: 0.7634920634920634.\n",
      "[I 2024-10-31 22:43:06,911] Trial 19 finished with value: 0.7031746031746031 and parameters: {'n_estimators': 115, 'learning_rate': 0.05050022017603437, 'max_depth': 500, 'min_samples_split': 190, 'min_samples_leaf': 35}. Best is trial 14 with value: 0.7634920634920634.\n",
      "[I 2024-10-31 22:43:06,943] Trial 20 finished with value: 0.6206349206349207 and parameters: {'n_estimators': 65, 'learning_rate': 0.3658079419077031, 'max_depth': 322, 'min_samples_split': 118, 'min_samples_leaf': 74}. Best is trial 14 with value: 0.7634920634920634.\n",
      "[I 2024-10-31 22:43:06,984] Trial 21 finished with value: 0.680952380952381 and parameters: {'n_estimators': 87, 'learning_rate': 0.1255269500499032, 'max_depth': 443, 'min_samples_split': 117, 'min_samples_leaf': 69}. Best is trial 14 with value: 0.7634920634920634.\n",
      "[I 2024-10-31 22:43:07,006] Trial 22 finished with value: 0.5 and parameters: {'n_estimators': 25, 'learning_rate': 0.03842332775897789, 'max_depth': 442, 'min_samples_split': 121, 'min_samples_leaf': 57}. Best is trial 14 with value: 0.7634920634920634.\n",
      "[I 2024-10-31 22:43:07,040] Trial 23 finished with value: 0.4777777777777778 and parameters: {'n_estimators': 69, 'learning_rate': 0.18496562714999143, 'max_depth': 433, 'min_samples_split': 79, 'min_samples_leaf': 86}. Best is trial 14 with value: 0.7634920634920634.\n",
      "[I 2024-10-31 22:43:07,068] Trial 24 finished with value: 0.8333333333333333 and parameters: {'n_estimators': 40, 'learning_rate': 2.711433744262412, 'max_depth': 369, 'min_samples_split': 105, 'min_samples_leaf': 49}. Best is trial 24 with value: 0.8333333333333333.\n",
      "[I 2024-10-31 22:43:07,097] Trial 25 finished with value: 0.5 and parameters: {'n_estimators': 43, 'learning_rate': 1.827410579450569, 'max_depth': 367, 'min_samples_split': 135, 'min_samples_leaf': 49}. Best is trial 24 with value: 0.8333333333333333.\n",
      "[I 2024-10-31 22:43:07,120] Trial 26 finished with value: 0.16666666666666666 and parameters: {'n_estimators': 32, 'learning_rate': 2.7422749326683316, 'max_depth': 297, 'min_samples_split': 154, 'min_samples_leaf': 28}. Best is trial 24 with value: 0.8333333333333333.\n",
      "[I 2024-10-31 22:43:07,141] Trial 27 finished with value: 0.7412698412698412 and parameters: {'n_estimators': 16, 'learning_rate': 0.39473766390623277, 'max_depth': 416, 'min_samples_split': 110, 'min_samples_leaf': 34}. Best is trial 24 with value: 0.8333333333333333.\n",
      "[I 2024-10-31 22:43:07,169] Trial 28 finished with value: 0.8174603174603176 and parameters: {'n_estimators': 42, 'learning_rate': 3.599673760934548, 'max_depth': 360, 'min_samples_split': 70, 'min_samples_leaf': 49}. Best is trial 24 with value: 0.8333333333333333.\n",
      "[I 2024-10-31 22:43:07,192] Trial 29 finished with value: 0.5 and parameters: {'n_estimators': 22, 'learning_rate': 4.03733065340773, 'max_depth': 362, 'min_samples_split': 47, 'min_samples_leaf': 47}. Best is trial 24 with value: 0.8333333333333333.\n",
      "[I 2024-10-31 22:43:07,223] Trial 30 finished with value: 0.5 and parameters: {'n_estimators': 63, 'learning_rate': 1.0194599879515964, 'max_depth': 277, 'min_samples_split': 65, 'min_samples_leaf': 99}. Best is trial 24 with value: 0.8333333333333333.\n",
      "[I 2024-10-31 22:43:07,251] Trial 31 finished with value: 0.7301587301587301 and parameters: {'n_estimators': 43, 'learning_rate': 0.26277763960146294, 'max_depth': 478, 'min_samples_split': 85, 'min_samples_leaf': 61}. Best is trial 24 with value: 0.8333333333333333.\n",
      "[I 2024-10-31 22:43:07,277] Trial 32 finished with value: 0.7412698412698412 and parameters: {'n_estimators': 34, 'learning_rate': 1.2417581486438916, 'max_depth': 232, 'min_samples_split': 98, 'min_samples_leaf': 50}. Best is trial 24 with value: 0.8333333333333333.\n",
      "[I 2024-10-31 22:43:07,321] Trial 33 finished with value: 0.8174603174603176 and parameters: {'n_estimators': 93, 'learning_rate': 3.515298663636648, 'max_depth': 364, 'min_samples_split': 104, 'min_samples_leaf': 54}. Best is trial 24 with value: 0.8333333333333333.\n",
      "[I 2024-10-31 22:43:07,370] Trial 34 finished with value: 0.6777777777777778 and parameters: {'n_estimators': 97, 'learning_rate': 3.2267001662180372, 'max_depth': 365, 'min_samples_split': 87, 'min_samples_leaf': 57}. Best is trial 24 with value: 0.8333333333333333.\n",
      "[I 2024-10-31 22:43:07,426] Trial 35 finished with value: 0.5 and parameters: {'n_estimators': 138, 'learning_rate': 6.264940997725049, 'max_depth': 217, 'min_samples_split': 130, 'min_samples_leaf': 53}. Best is trial 24 with value: 0.8333333333333333.\n",
      "[I 2024-10-31 22:43:07,481] Trial 36 finished with value: 0.5 and parameters: {'n_estimators': 119, 'learning_rate': 0.0005601191573660429, 'max_depth': 302, 'min_samples_split': 70, 'min_samples_leaf': 44}. Best is trial 24 with value: 0.8333333333333333.\n",
      "[I 2024-10-31 22:43:07,527] Trial 37 finished with value: 0.8174603174603176 and parameters: {'n_estimators': 92, 'learning_rate': 3.575242045399382, 'max_depth': 184, 'min_samples_split': 38, 'min_samples_leaf': 53}. Best is trial 24 with value: 0.8333333333333333.\n",
      "[I 2024-10-31 22:43:07,581] Trial 38 finished with value: 0.16666666666666666 and parameters: {'n_estimators': 144, 'learning_rate': 2.2459976768629613, 'max_depth': 135, 'min_samples_split': 32, 'min_samples_leaf': 63}. Best is trial 24 with value: 0.8333333333333333.\n",
      "[I 2024-10-31 22:43:07,622] Trial 39 finished with value: 0.5 and parameters: {'n_estimators': 93, 'learning_rate': 4.789869512051778, 'max_depth': 86, 'min_samples_split': 38, 'min_samples_leaf': 75}. Best is trial 24 with value: 0.8333333333333333.\n",
      "[I 2024-10-31 22:43:07,687] Trial 40 finished with value: 0.7746031746031745 and parameters: {'n_estimators': 160, 'learning_rate': 0.7499550424156015, 'max_depth': 204, 'min_samples_split': 17, 'min_samples_leaf': 55}. Best is trial 24 with value: 0.8333333333333333.\n",
      "[I 2024-10-31 22:43:07,756] Trial 41 finished with value: 0.7523809523809523 and parameters: {'n_estimators': 166, 'learning_rate': 0.955789468510072, 'max_depth': 195, 'min_samples_split': 13, 'min_samples_leaf': 54}. Best is trial 24 with value: 0.8333333333333333.\n",
      "[I 2024-10-31 22:43:07,835] Trial 42 finished with value: 0.32222222222222224 and parameters: {'n_estimators': 200, 'learning_rate': 8.601100844229773, 'max_depth': 145, 'min_samples_split': 23, 'min_samples_leaf': 57}. Best is trial 24 with value: 0.8333333333333333.\n",
      "[I 2024-10-31 22:43:07,894] Trial 43 finished with value: 0.5 and parameters: {'n_estimators': 108, 'learning_rate': 2.504497833794586, 'max_depth': 262, 'min_samples_split': 47, 'min_samples_leaf': 35}. Best is trial 24 with value: 0.8333333333333333.\n",
      "[I 2024-10-31 22:43:07,956] Trial 44 finished with value: 0.6587301587301587 and parameters: {'n_estimators': 161, 'learning_rate': 1.521098817143354, 'max_depth': 106, 'min_samples_split': 4, 'min_samples_leaf': 65}. Best is trial 24 with value: 0.8333333333333333.\n",
      "[I 2024-10-31 22:43:08,000] Trial 45 finished with value: 0.834920634920635 and parameters: {'n_estimators': 75, 'learning_rate': 0.5661733021208474, 'max_depth': 191, 'min_samples_split': 58, 'min_samples_leaf': 46}. Best is trial 45 with value: 0.834920634920635.\n",
      "[I 2024-10-31 22:43:08,040] Trial 46 finished with value: 0.5 and parameters: {'n_estimators': 70, 'learning_rate': 4.5951267700596645, 'max_depth': 175, 'min_samples_split': 60, 'min_samples_leaf': 46}. Best is trial 45 with value: 0.834920634920635.\n",
      "[I 2024-10-31 22:43:08,092] Trial 47 finished with value: 0.8238095238095238 and parameters: {'n_estimators': 77, 'learning_rate': 0.6092617425667256, 'max_depth': 248, 'min_samples_split': 80, 'min_samples_leaf': 19}. Best is trial 45 with value: 0.834920634920635.\n",
      "[I 2024-10-31 22:43:08,141] Trial 48 finished with value: 0.8126984126984127 and parameters: {'n_estimators': 77, 'learning_rate': 0.5548780253900858, 'max_depth': 254, 'min_samples_split': 78, 'min_samples_leaf': 17}. Best is trial 45 with value: 0.834920634920635.\n",
      "[I 2024-10-31 22:43:08,199] Trial 49 finished with value: 0.7412698412698412 and parameters: {'n_estimators': 105, 'learning_rate': 0.32386143205060075, 'max_depth': 287, 'min_samples_split': 100, 'min_samples_leaf': 13}. Best is trial 45 with value: 0.834920634920635.\n",
      "[I 2024-10-31 22:43:08,200] A new study created in memory with name: no-name-33630234-9a2f-4cf3-8fc9-db0d20bd2262\n",
      "c:\\Users\\owner\\AppData\\Local\\Programs\\Python\\Python310\\lib\\site-packages\\sklearn\\neural_network\\_multilayer_perceptron.py:690: ConvergenceWarning: Stochastic Optimizer: Maximum iterations (216) reached and the optimization hasn't converged yet.\n",
      "  warnings.warn(\n",
      "[I 2024-10-31 22:43:08,376] Trial 0 finished with value: 0.7746031746031745 and parameters: {'hidden_layer_sizes ': 201, 'max_iter': 216}. Best is trial 0 with value: 0.7746031746031745.\n"
     ]
    },
    {
     "name": "stdout",
     "output_type": "stream",
     "text": [
      "Best ROC-AUC for GradientBoostingClassifier:  0.834920634920635\n",
      "Best hyperparameters for GradientBoostingClassifier:  {'n_estimators': 75, 'learning_rate': 0.5661733021208474, 'max_depth': 191, 'min_samples_split': 58, 'min_samples_leaf': 46}\n"
     ]
    },
    {
     "name": "stderr",
     "output_type": "stream",
     "text": [
      "[I 2024-10-31 22:43:09,041] Trial 1 finished with value: 0.846031746031746 and parameters: {'hidden_layer_sizes ': 848, 'max_iter': 386}. Best is trial 1 with value: 0.846031746031746.\n",
      "[I 2024-10-31 22:43:09,537] Trial 2 finished with value: 0.7746031746031745 and parameters: {'hidden_layer_sizes ': 919, 'max_iter': 255}. Best is trial 1 with value: 0.846031746031746.\n",
      "[I 2024-10-31 22:43:10,115] Trial 3 finished with value: 0.7523809523809523 and parameters: {'hidden_layer_sizes ': 525, 'max_iter': 924}. Best is trial 1 with value: 0.846031746031746.\n",
      "[I 2024-10-31 22:43:10,581] Trial 4 finished with value: 0.8126984126984127 and parameters: {'hidden_layer_sizes ': 158, 'max_iter': 768}. Best is trial 1 with value: 0.846031746031746.\n",
      "[I 2024-10-31 22:43:11,408] Trial 5 finished with value: 0.834920634920635 and parameters: {'hidden_layer_sizes ': 626, 'max_iter': 896}. Best is trial 1 with value: 0.846031746031746.\n",
      "[I 2024-10-31 22:43:11,891] Trial 6 finished with value: 0.7523809523809523 and parameters: {'hidden_layer_sizes ': 323, 'max_iter': 927}. Best is trial 1 with value: 0.846031746031746.\n",
      "c:\\Users\\owner\\AppData\\Local\\Programs\\Python\\Python310\\lib\\site-packages\\sklearn\\neural_network\\_multilayer_perceptron.py:690: ConvergenceWarning: Stochastic Optimizer: Maximum iterations (357) reached and the optimization hasn't converged yet.\n",
      "  warnings.warn(\n",
      "[I 2024-10-31 22:43:12,094] Trial 7 finished with value: 0.7746031746031745 and parameters: {'hidden_layer_sizes ': 76, 'max_iter': 357}. Best is trial 1 with value: 0.846031746031746.\n",
      "[I 2024-10-31 22:43:12,377] Trial 8 finished with value: 0.8238095238095238 and parameters: {'hidden_layer_sizes ': 405, 'max_iter': 500}. Best is trial 1 with value: 0.846031746031746.\n",
      "[I 2024-10-31 22:43:12,803] Trial 9 finished with value: 0.8507936507936509 and parameters: {'hidden_layer_sizes ': 480, 'max_iter': 483}. Best is trial 9 with value: 0.8507936507936509.\n",
      "[I 2024-10-31 22:43:13,613] Trial 10 finished with value: 0.834920634920635 and parameters: {'hidden_layer_sizes ': 677, 'max_iter': 640}. Best is trial 9 with value: 0.8507936507936509.\n",
      "[I 2024-10-31 22:43:14,353] Trial 11 finished with value: 0.8238095238095238 and parameters: {'hidden_layer_sizes ': 976, 'max_iter': 456}. Best is trial 9 with value: 0.8507936507936509.\n",
      "c:\\Users\\owner\\AppData\\Local\\Programs\\Python\\Python310\\lib\\site-packages\\sklearn\\neural_network\\_multilayer_perceptron.py:690: ConvergenceWarning: Stochastic Optimizer: Maximum iterations (128) reached and the optimization hasn't converged yet.\n",
      "  warnings.warn(\n",
      "[I 2024-10-31 22:43:14,634] Trial 12 finished with value: 0.8571428571428572 and parameters: {'hidden_layer_sizes ': 767, 'max_iter': 128}. Best is trial 12 with value: 0.8571428571428572.\n",
      "c:\\Users\\owner\\AppData\\Local\\Programs\\Python\\Python310\\lib\\site-packages\\sklearn\\neural_network\\_multilayer_perceptron.py:690: ConvergenceWarning: Stochastic Optimizer: Maximum iterations (133) reached and the optimization hasn't converged yet.\n",
      "  warnings.warn(\n",
      "[I 2024-10-31 22:43:14,926] Trial 13 finished with value: 0.680952380952381 and parameters: {'hidden_layer_sizes ': 772, 'max_iter': 133}. Best is trial 12 with value: 0.8571428571428572.\n",
      "[I 2024-10-31 22:43:15,214] Trial 14 finished with value: 0.692063492063492 and parameters: {'hidden_layer_sizes ': 524, 'max_iter': 636}. Best is trial 12 with value: 0.8571428571428572.\n",
      "c:\\Users\\owner\\AppData\\Local\\Programs\\Python\\Python310\\lib\\site-packages\\sklearn\\neural_network\\_multilayer_perceptron.py:690: ConvergenceWarning: Stochastic Optimizer: Maximum iterations (291) reached and the optimization hasn't converged yet.\n",
      "  warnings.warn(\n",
      "[I 2024-10-31 22:43:15,786] Trial 15 finished with value: 0.680952380952381 and parameters: {'hidden_layer_sizes ': 662, 'max_iter': 291}. Best is trial 12 with value: 0.8571428571428572.\n",
      "c:\\Users\\owner\\AppData\\Local\\Programs\\Python\\Python310\\lib\\site-packages\\sklearn\\neural_network\\_multilayer_perceptron.py:690: ConvergenceWarning: Stochastic Optimizer: Maximum iterations (121) reached and the optimization hasn't converged yet.\n",
      "  warnings.warn(\n",
      "[I 2024-10-31 22:43:15,929] Trial 16 finished with value: 0.7634920634920634 and parameters: {'hidden_layer_sizes ': 359, 'max_iter': 121}. Best is trial 12 with value: 0.8571428571428572.\n",
      "[I 2024-10-31 22:43:16,420] Trial 17 finished with value: 0.834920634920635 and parameters: {'hidden_layer_sizes ': 741, 'max_iter': 599}. Best is trial 12 with value: 0.8571428571428572.\n",
      "c:\\Users\\owner\\AppData\\Local\\Programs\\Python\\Python310\\lib\\site-packages\\sklearn\\neural_network\\_multilayer_perceptron.py:690: ConvergenceWarning: Stochastic Optimizer: Maximum iterations (410) reached and the optimization hasn't converged yet.\n",
      "  warnings.warn(\n",
      "[I 2024-10-31 22:43:17,051] Trial 18 finished with value: 0.8238095238095238 and parameters: {'hidden_layer_sizes ': 570, 'max_iter': 410}. Best is trial 12 with value: 0.8571428571428572.\n",
      "[I 2024-10-31 22:43:17,397] Trial 19 finished with value: 0.7031746031746031 and parameters: {'hidden_layer_sizes ': 433, 'max_iter': 765}. Best is trial 12 with value: 0.8571428571428572.\n",
      "[I 2024-10-31 22:43:17,847] Trial 20 finished with value: 0.7634920634920634 and parameters: {'hidden_layer_sizes ': 275, 'max_iter': 543}. Best is trial 12 with value: 0.8571428571428572.\n",
      "[I 2024-10-31 22:43:18,369] Trial 21 finished with value: 0.692063492063492 and parameters: {'hidden_layer_sizes ': 839, 'max_iter': 350}. Best is trial 12 with value: 0.8571428571428572.\n",
      "c:\\Users\\owner\\AppData\\Local\\Programs\\Python\\Python310\\lib\\site-packages\\sklearn\\neural_network\\_multilayer_perceptron.py:690: ConvergenceWarning: Stochastic Optimizer: Maximum iterations (191) reached and the optimization hasn't converged yet.\n",
      "  warnings.warn(\n",
      "[I 2024-10-31 22:43:18,824] Trial 22 finished with value: 0.8952380952380953 and parameters: {'hidden_layer_sizes ': 858, 'max_iter': 191}. Best is trial 22 with value: 0.8952380952380953.\n",
      "c:\\Users\\owner\\AppData\\Local\\Programs\\Python\\Python310\\lib\\site-packages\\sklearn\\neural_network\\_multilayer_perceptron.py:690: ConvergenceWarning: Stochastic Optimizer: Maximum iterations (191) reached and the optimization hasn't converged yet.\n",
      "  warnings.warn(\n",
      "[I 2024-10-31 22:43:19,325] Trial 23 finished with value: 0.834920634920635 and parameters: {'hidden_layer_sizes ': 987, 'max_iter': 191}. Best is trial 22 with value: 0.8952380952380953.\n",
      "[I 2024-10-31 22:43:19,850] Trial 24 finished with value: 0.692063492063492 and parameters: {'hidden_layer_sizes ': 797, 'max_iter': 298}. Best is trial 22 with value: 0.8952380952380953.\n"
     ]
    },
    {
     "name": "stdout",
     "output_type": "stream",
     "text": [
      "Best ROC-AUC for MLPClassifier:  0.8952380952380953\n",
      "Best hyperparameters for MLPClassifier:  {'hidden_layer_sizes ': 858, 'max_iter': 191}\n"
     ]
    }
   ],
   "source": [
    "#оптимизируем гиперпараметры\n",
    "import optuna\n",
    "\n",
    "\n",
    "def objective_gbc(trial):\n",
    "    n_estimators = trial.suggest_int('n_estimators', 1, 200)\n",
    "    learning_rate = trial.suggest_float('learning_rate', 1e-4, 10.0, log=True)\n",
    "    max_depth = trial.suggest_int('max_depth', 1, 500)\n",
    "    min_samples_split = trial.suggest_int('min_samples_split', 2, 200)\n",
    "    min_samples_leaf = trial.suggest_int('min_samples_leaf', 1, 100)\n",
    "\n",
    "    model = GradientBoostingClassifier(max_depth=max_depth,\n",
    "                                   min_samples_split=min_samples_split,\n",
    "                                   min_samples_leaf=min_samples_leaf,\n",
    "                                   n_estimators = n_estimators,\n",
    "                                    learning_rate = learning_rate)\n",
    "    model.fit(X_train_scaled, y_train)\n",
    "\n",
    "    y_pred = model.predict(X_test_scaled)\n",
    "    roc_auc = roc_auc_score(y_test, y_pred)\n",
    "    return roc_auc\n",
    "\n",
    "\n",
    "def objective_mlp(trial):\n",
    "    hidden_layer_sizes = trial.suggest_int('hidden_layer_sizes ', 2, 1000)\n",
    "    max_iter = trial.suggest_int('max_iter', 100, 1000)\n",
    "\n",
    "    model = MLPClassifier(\n",
    "        hidden_layer_sizes=hidden_layer_sizes,\n",
    "        max_iter=max_iter\n",
    "    )\n",
    "    model.fit(X_train_scaled, y_train)\n",
    "\n",
    "    y_pred = model.predict(X_test_scaled)\n",
    "    roc_auc = roc_auc_score(y_test, y_pred)\n",
    "    return roc_auc\n",
    "\n",
    "\n",
    "study_gbc = optuna.create_study(direction='maximize')\n",
    "study_gbc.optimize(objective_gbc, n_trials=50)\n",
    "\n",
    "print(\"Best ROC-AUC for GradientBoostingClassifier: \", study_gbc.best_value)\n",
    "print(\"Best hyperparameters for GradientBoostingClassifier: \", study_gbc.best_params)\n",
    "\n",
    "\n",
    "study_mlp = optuna.create_study(direction='maximize')\n",
    "study_mlp.optimize(objective_mlp, n_trials=25)\n",
    "\n",
    "print(\"Best ROC-AUC for MLPClassifier: \", study_mlp.best_value)\n",
    "print(\"Best hyperparameters for MLPClassifier: \", study_mlp.best_params)"
   ]
  },
  {
   "cell_type": "code",
   "execution_count": 7,
   "id": "yJBK7MFr_xJx",
   "metadata": {
    "colab": {
     "base_uri": "https://localhost:8080/"
    },
    "id": "yJBK7MFr_xJx",
    "outputId": "3a9d11b0-5ffd-449f-9975-3b18d5476a3a"
   },
   "outputs": [
    {
     "name": "stderr",
     "output_type": "stream",
     "text": [
      "[I 2024-10-31 22:43:37,821] A new study created in memory with name: no-name-10cdad29-a387-41fa-8f6f-28c5fc936c2b\n",
      "[I 2024-10-31 22:43:37,905] Trial 0 finished with value: 0.7031746031746031 and parameters: {'n_estimators': 133, 'max_depth': 6, 'min_samples_split': 10, 'min_samples_leaf': 4}. Best is trial 0 with value: 0.7031746031746031.\n",
      "[I 2024-10-31 22:43:37,991] Trial 1 finished with value: 0.7142857142857143 and parameters: {'n_estimators': 134, 'max_depth': 5, 'min_samples_split': 5, 'min_samples_leaf': 1}. Best is trial 1 with value: 0.7142857142857143.\n",
      "[I 2024-10-31 22:43:38,095] Trial 2 finished with value: 0.7031746031746031 and parameters: {'n_estimators': 171, 'max_depth': 9, 'min_samples_split': 2, 'min_samples_leaf': 3}. Best is trial 1 with value: 0.7142857142857143.\n",
      "[I 2024-10-31 22:43:38,159] Trial 3 finished with value: 0.6428571428571428 and parameters: {'n_estimators': 103, 'max_depth': 15, 'min_samples_split': 6, 'min_samples_leaf': 5}. Best is trial 1 with value: 0.7142857142857143.\n",
      "[I 2024-10-31 22:43:38,255] Trial 4 finished with value: 0.7031746031746031 and parameters: {'n_estimators': 160, 'max_depth': 18, 'min_samples_split': 9, 'min_samples_leaf': 2}. Best is trial 1 with value: 0.7142857142857143.\n",
      "[I 2024-10-31 22:43:38,314] Trial 5 finished with value: 0.7746031746031745 and parameters: {'n_estimators': 90, 'max_depth': 13, 'min_samples_split': 4, 'min_samples_leaf': 3}. Best is trial 5 with value: 0.7746031746031745.\n",
      "[I 2024-10-31 22:43:38,363] Trial 6 finished with value: 0.6317460317460317 and parameters: {'n_estimators': 83, 'max_depth': 5, 'min_samples_split': 7, 'min_samples_leaf': 1}. Best is trial 5 with value: 0.7746031746031745.\n",
      "[I 2024-10-31 22:43:38,434] Trial 7 finished with value: 0.7031746031746031 and parameters: {'n_estimators': 126, 'max_depth': 13, 'min_samples_split': 6, 'min_samples_leaf': 2}. Best is trial 5 with value: 0.7746031746031745.\n",
      "[I 2024-10-31 22:43:38,531] Trial 8 finished with value: 0.6317460317460317 and parameters: {'n_estimators': 159, 'max_depth': 13, 'min_samples_split': 8, 'min_samples_leaf': 5}. Best is trial 5 with value: 0.7746031746031745.\n",
      "[I 2024-10-31 22:43:38,591] Trial 9 finished with value: 0.7857142857142857 and parameters: {'n_estimators': 103, 'max_depth': 6, 'min_samples_split': 3, 'min_samples_leaf': 4}. Best is trial 9 with value: 0.7857142857142857.\n",
      "[I 2024-10-31 22:43:38,636] Trial 10 finished with value: 0.5 and parameters: {'n_estimators': 63, 'max_depth': 2, 'min_samples_split': 2, 'min_samples_leaf': 4}. Best is trial 9 with value: 0.7857142857142857.\n",
      "[I 2024-10-31 22:43:38,705] Trial 11 finished with value: 0.7031746031746031 and parameters: {'n_estimators': 97, 'max_depth': 9, 'min_samples_split': 4, 'min_samples_leaf': 3}. Best is trial 9 with value: 0.7857142857142857.\n",
      "[I 2024-10-31 22:43:38,747] Trial 12 finished with value: 0.7031746031746031 and parameters: {'n_estimators': 51, 'max_depth': 18, 'min_samples_split': 4, 'min_samples_leaf': 4}. Best is trial 9 with value: 0.7857142857142857.\n",
      "[I 2024-10-31 22:43:38,803] Trial 13 finished with value: 0.7031746031746031 and parameters: {'n_estimators': 81, 'max_depth': 10, 'min_samples_split': 3, 'min_samples_leaf': 3}. Best is trial 9 with value: 0.7857142857142857.\n",
      "[I 2024-10-31 22:43:38,913] Trial 14 finished with value: 0.5 and parameters: {'n_estimators': 194, 'max_depth': 2, 'min_samples_split': 4, 'min_samples_leaf': 4}. Best is trial 9 with value: 0.7857142857142857.\n",
      "[I 2024-10-31 22:43:38,980] Trial 15 finished with value: 0.6428571428571428 and parameters: {'n_estimators': 102, 'max_depth': 7, 'min_samples_split': 3, 'min_samples_leaf': 2}. Best is trial 9 with value: 0.7857142857142857.\n",
      "[I 2024-10-31 22:43:39,054] Trial 16 finished with value: 0.6428571428571428 and parameters: {'n_estimators': 113, 'max_depth': 15, 'min_samples_split': 5, 'min_samples_leaf': 5}. Best is trial 9 with value: 0.7857142857142857.\n",
      "[I 2024-10-31 22:43:39,107] Trial 17 finished with value: 0.7031746031746031 and parameters: {'n_estimators': 79, 'max_depth': 12, 'min_samples_split': 3, 'min_samples_leaf': 4}. Best is trial 9 with value: 0.7857142857142857.\n",
      "[I 2024-10-31 22:43:39,154] Trial 18 finished with value: 0.7031746031746031 and parameters: {'n_estimators': 65, 'max_depth': 20, 'min_samples_split': 5, 'min_samples_leaf': 3}. Best is trial 9 with value: 0.7857142857142857.\n",
      "[I 2024-10-31 22:43:39,245] Trial 19 finished with value: 0.692063492063492 and parameters: {'n_estimators': 145, 'max_depth': 8, 'min_samples_split': 2, 'min_samples_leaf': 2}. Best is trial 9 with value: 0.7857142857142857.\n",
      "[I 2024-10-31 22:43:39,317] Trial 20 finished with value: 0.7746031746031745 and parameters: {'n_estimators': 113, 'max_depth': 11, 'min_samples_split': 7, 'min_samples_leaf': 3}. Best is trial 9 with value: 0.7857142857142857.\n",
      "[I 2024-10-31 22:43:39,391] Trial 21 finished with value: 0.7746031746031745 and parameters: {'n_estimators': 115, 'max_depth': 11, 'min_samples_split': 7, 'min_samples_leaf': 3}. Best is trial 9 with value: 0.7857142857142857.\n",
      "[I 2024-10-31 22:43:39,453] Trial 22 finished with value: 0.7746031746031745 and parameters: {'n_estimators': 92, 'max_depth': 14, 'min_samples_split': 7, 'min_samples_leaf': 3}. Best is trial 9 with value: 0.7857142857142857.\n",
      "[I 2024-10-31 22:43:39,526] Trial 23 finished with value: 0.7746031746031745 and parameters: {'n_estimators': 111, 'max_depth': 17, 'min_samples_split': 8, 'min_samples_leaf': 4}. Best is trial 9 with value: 0.7857142857142857.\n",
      "[I 2024-10-31 22:43:39,606] Trial 24 finished with value: 0.6428571428571428 and parameters: {'n_estimators': 120, 'max_depth': 4, 'min_samples_split': 4, 'min_samples_leaf': 2}. Best is trial 9 with value: 0.7857142857142857.\n",
      "[I 2024-10-31 22:43:39,667] Trial 25 finished with value: 0.7746031746031745 and parameters: {'n_estimators': 90, 'max_depth': 11, 'min_samples_split': 5, 'min_samples_leaf': 3}. Best is trial 9 with value: 0.7857142857142857.\n",
      "[I 2024-10-31 22:43:39,755] Trial 26 finished with value: 0.7746031746031745 and parameters: {'n_estimators': 143, 'max_depth': 8, 'min_samples_split': 3, 'min_samples_leaf': 4}. Best is trial 9 with value: 0.7857142857142857.\n",
      "[I 2024-10-31 22:43:39,803] Trial 27 finished with value: 0.6317460317460317 and parameters: {'n_estimators': 66, 'max_depth': 16, 'min_samples_split': 8, 'min_samples_leaf': 5}. Best is trial 9 with value: 0.7857142857142857.\n",
      "[I 2024-10-31 22:43:39,873] Trial 28 finished with value: 0.7746031746031745 and parameters: {'n_estimators': 106, 'max_depth': 13, 'min_samples_split': 6, 'min_samples_leaf': 3}. Best is trial 9 with value: 0.7857142857142857.\n",
      "[I 2024-10-31 22:43:39,953] Trial 29 finished with value: 0.7031746031746031 and parameters: {'n_estimators': 132, 'max_depth': 6, 'min_samples_split': 10, 'min_samples_leaf': 4}. Best is trial 9 with value: 0.7857142857142857.\n",
      "[I 2024-10-31 22:43:40,033] Trial 30 finished with value: 0.7031746031746031 and parameters: {'n_estimators': 123, 'max_depth': 10, 'min_samples_split': 6, 'min_samples_leaf': 3}. Best is trial 9 with value: 0.7857142857142857.\n",
      "[I 2024-10-31 22:43:40,106] Trial 31 finished with value: 0.7746031746031745 and parameters: {'n_estimators': 115, 'max_depth': 11, 'min_samples_split': 7, 'min_samples_leaf': 3}. Best is trial 9 with value: 0.7857142857142857.\n",
      "[I 2024-10-31 22:43:40,166] Trial 32 finished with value: 0.7031746031746031 and parameters: {'n_estimators': 91, 'max_depth': 11, 'min_samples_split': 7, 'min_samples_leaf': 2}. Best is trial 9 with value: 0.7857142857142857.\n",
      "[I 2024-10-31 22:43:40,254] Trial 33 finished with value: 0.6428571428571428 and parameters: {'n_estimators': 140, 'max_depth': 4, 'min_samples_split': 9, 'min_samples_leaf': 3}. Best is trial 9 with value: 0.7857142857142857.\n",
      "[I 2024-10-31 22:43:40,308] Trial 34 finished with value: 0.7031746031746031 and parameters: {'n_estimators': 72, 'max_depth': 12, 'min_samples_split': 5, 'min_samples_leaf': 4}. Best is trial 9 with value: 0.7857142857142857.\n",
      "[I 2024-10-31 22:43:40,378] Trial 35 finished with value: 0.7746031746031745 and parameters: {'n_estimators': 102, 'max_depth': 9, 'min_samples_split': 6, 'min_samples_leaf': 3}. Best is trial 9 with value: 0.7857142857142857.\n",
      "[I 2024-10-31 22:43:40,450] Trial 36 finished with value: 0.7031746031746031 and parameters: {'n_estimators': 110, 'max_depth': 15, 'min_samples_split': 8, 'min_samples_leaf': 1}. Best is trial 9 with value: 0.7857142857142857.\n",
      "[I 2024-10-31 22:43:40,536] Trial 37 finished with value: 0.7746031746031745 and parameters: {'n_estimators': 130, 'max_depth': 7, 'min_samples_split': 7, 'min_samples_leaf': 2}. Best is trial 9 with value: 0.7857142857142857.\n",
      "[I 2024-10-31 22:43:40,603] Trial 38 finished with value: 0.7031746031746031 and parameters: {'n_estimators': 97, 'max_depth': 14, 'min_samples_split': 2, 'min_samples_leaf': 3}. Best is trial 9 with value: 0.7857142857142857.\n",
      "[I 2024-10-31 22:43:40,691] Trial 39 finished with value: 0.6428571428571428 and parameters: {'n_estimators': 118, 'max_depth': 12, 'min_samples_split': 9, 'min_samples_leaf': 5}. Best is trial 9 with value: 0.7857142857142857.\n",
      "[I 2024-10-31 22:43:40,786] Trial 40 finished with value: 0.7031746031746031 and parameters: {'n_estimators': 153, 'max_depth': 10, 'min_samples_split': 5, 'min_samples_leaf': 3}. Best is trial 9 with value: 0.7857142857142857.\n",
      "[I 2024-10-31 22:43:40,845] Trial 41 finished with value: 0.7746031746031745 and parameters: {'n_estimators': 87, 'max_depth': 14, 'min_samples_split': 7, 'min_samples_leaf': 3}. Best is trial 9 with value: 0.7857142857142857.\n",
      "[I 2024-10-31 22:43:40,910] Trial 42 finished with value: 0.7031746031746031 and parameters: {'n_estimators': 94, 'max_depth': 14, 'min_samples_split': 7, 'min_samples_leaf': 2}. Best is trial 9 with value: 0.7857142857142857.\n",
      "[I 2024-10-31 22:43:40,977] Trial 43 finished with value: 0.7857142857142857 and parameters: {'n_estimators': 103, 'max_depth': 16, 'min_samples_split': 8, 'min_samples_leaf': 3}. Best is trial 9 with value: 0.7857142857142857.\n",
      "[I 2024-10-31 22:43:41,033] Trial 44 finished with value: 0.7031746031746031 and parameters: {'n_estimators': 76, 'max_depth': 20, 'min_samples_split': 9, 'min_samples_leaf': 4}. Best is trial 9 with value: 0.7857142857142857.\n",
      "[I 2024-10-31 22:43:41,101] Trial 45 finished with value: 0.7857142857142857 and parameters: {'n_estimators': 104, 'max_depth': 16, 'min_samples_split': 8, 'min_samples_leaf': 3}. Best is trial 9 with value: 0.7857142857142857.\n",
      "[I 2024-10-31 22:43:41,169] Trial 46 finished with value: 0.7746031746031745 and parameters: {'n_estimators': 104, 'max_depth': 18, 'min_samples_split': 8, 'min_samples_leaf': 4}. Best is trial 9 with value: 0.7857142857142857.\n",
      "[I 2024-10-31 22:43:41,229] Trial 47 finished with value: 0.7746031746031745 and parameters: {'n_estimators': 85, 'max_depth': 16, 'min_samples_split': 8, 'min_samples_leaf': 3}. Best is trial 9 with value: 0.7857142857142857.\n",
      "[I 2024-10-31 22:43:41,335] Trial 48 finished with value: 0.7031746031746031 and parameters: {'n_estimators': 180, 'max_depth': 19, 'min_samples_split': 10, 'min_samples_leaf': 2}. Best is trial 9 with value: 0.7857142857142857.\n",
      "[I 2024-10-31 22:43:41,403] Trial 49 finished with value: 0.7031746031746031 and parameters: {'n_estimators': 98, 'max_depth': 17, 'min_samples_split': 3, 'min_samples_leaf': 3}. Best is trial 9 with value: 0.7857142857142857.\n"
     ]
    },
    {
     "name": "stdout",
     "output_type": "stream",
     "text": [
      "Best ROC-AUC for RandomForestClassifier:  0.7857142857142857\n",
      "Best hyperparameters for RandomForestClassifier:  {'n_estimators': 103, 'max_depth': 6, 'min_samples_split': 3, 'min_samples_leaf': 4}\n"
     ]
    }
   ],
   "source": [
    "def objective_rf(trial):\n",
    "    n_estimators = trial.suggest_int(\"n_estimators\", 50, 200)\n",
    "    max_depth = trial.suggest_int(\"max_depth\", 2, 20)\n",
    "    min_samples_split = trial.suggest_int(\"min_samples_split\", 2, 10)\n",
    "    min_samples_leaf = trial.suggest_int(\"min_samples_leaf\", 1, 5)\n",
    "\n",
    "    model = RandomForestClassifier(\n",
    "        n_estimators=n_estimators,\n",
    "        max_depth=max_depth,\n",
    "        min_samples_split=min_samples_split,\n",
    "        min_samples_leaf=min_samples_leaf,\n",
    "        random_state=42\n",
    "    )\n",
    "    model.fit(X_train, y_train)\n",
    "\n",
    "    y_pred = model.predict(X_test)\n",
    "    roc_auc = roc_auc_score(y_test, y_pred)\n",
    "    return roc_auc\n",
    "\n",
    "study_rf = optuna.create_study(direction='maximize')\n",
    "study_rf.optimize(objective_rf, n_trials=50)\n",
    "\n",
    "print(\"Best ROC-AUC for RandomForestClassifier: \", study_rf.best_value)\n",
    "print(\"Best hyperparameters for RandomForestClassifier: \", study_rf.best_params)"
   ]
  },
  {
   "cell_type": "code",
   "execution_count": 32,
   "id": "vJhgYJMPghrr",
   "metadata": {
    "colab": {
     "base_uri": "https://localhost:8080/"
    },
    "id": "vJhgYJMPghrr",
    "outputId": "0e4614c3-f62d-4ad1-9152-eda9d5ddd0ea"
   },
   "outputs": [
    {
     "name": "stdout",
     "output_type": "stream",
     "text": [
      "Random Forest метрики:\n",
      "ROC AUC: 0.79\n",
      "Accuracy: 0.94\n",
      "Precision: 0.94\n",
      "Recall: 1.00\n"
     ]
    }
   ],
   "source": [
    "# Обучение Random Forest\n",
    "rf_params = {'n_estimators': 121, 'max_depth': 15, 'min_samples_split': 8, 'min_samples_leaf': 3}\n",
    "rf_model = RandomForestClassifier(**rf_params)\n",
    "rf_model.fit(X_train, y_train)\n",
    "\n",
    "# Прогноз на тестовых данных\n",
    "rf_pred = rf_model.predict(X_test)\n",
    "\n",
    "# Расчет метрик для Random Forest\n",
    "rf_roc_auc = roc_auc_score(y_test, rf_pred)\n",
    "rf_accuracy = accuracy_score(y_test, rf_pred)\n",
    "rf_precision = precision_score(y_test, rf_pred)\n",
    "rf_recall = recall_score(y_test, rf_pred)\n",
    "\n",
    "print(\"Random Forest метрики:\")\n",
    "print(f\"ROC AUC: {rf_roc_auc:.2f}\")\n",
    "print(f\"Accuracy: {rf_accuracy:.2f}\")\n",
    "print(f\"Precision: {rf_precision:.2f}\")\n",
    "print(f\"Recall: {rf_recall:.2f}\")"
   ]
  },
  {
   "cell_type": "code",
   "execution_count": 33,
   "id": "Wl09RCJZ_SRb",
   "metadata": {
    "colab": {
     "base_uri": "https://localhost:8080/"
    },
    "id": "Wl09RCJZ_SRb",
    "outputId": "8c1e9091-65d2-42b7-db4c-1de2235cbfff"
   },
   "outputs": [
    {
     "name": "stdout",
     "output_type": "stream",
     "text": [
      "\n",
      "Gradient Boosting метрики:\n",
      "ROC AUC: 0.83\n",
      "Accuracy: 0.92\n",
      "Precision: 0.96\n",
      "Recall: 0.96\n"
     ]
    }
   ],
   "source": [
    "# Обучение Gradient Boosting\n",
    "gb_params = {'n_estimators': 112, 'learning_rate': 0.12048539180625001, 'max_depth': 7, 'min_samples_split': 3, 'min_samples_leaf': 5, 'subsample': 0.8020632465655403, 'max_features': 'log2'}\n",
    "gb_model = GradientBoostingClassifier(**gb_params)\n",
    "gb_model.fit(X_train_scaled, y_train)\n",
    "\n",
    "# Прогноз на тестовых данных\n",
    "gb_pred = gb_model.predict(X_test_scaled)\n",
    "\n",
    "# Расчет метрик для Gradient Boosting\n",
    "gb_roc_auc = roc_auc_score(y_test, gb_pred)\n",
    "gb_accuracy = accuracy_score(y_test, gb_pred)\n",
    "gb_precision = precision_score(y_test, gb_pred)\n",
    "gb_recall = recall_score(y_test, gb_pred)\n",
    "\n",
    "print(\"\\nGradient Boosting метрики:\")\n",
    "print(f\"ROC AUC: {gb_roc_auc:.2f}\")\n",
    "print(f\"Accuracy: {gb_accuracy:.2f}\")\n",
    "print(f\"Precision: {gb_precision:.2f}\")\n",
    "print(f\"Recall: {gb_recall:.2f}\")"
   ]
  },
  {
   "cell_type": "code",
   "execution_count": 42,
   "id": "ae1e040c-ddd0-4952-9dcb-58c1226da40a",
   "metadata": {
    "colab": {
     "base_uri": "https://localhost:8080/"
    },
    "id": "ae1e040c-ddd0-4952-9dcb-58c1226da40a",
    "outputId": "d461e90d-e99a-43eb-e4b3-dc2e697b9933",
    "tags": []
   },
   "outputs": [
    {
     "name": "stdout",
     "output_type": "stream",
     "text": [
      "\n",
      "MLP (Neural Network) метрики:\n",
      "ROC AUC: 0.83\n",
      "Accuracy: 0.92\n",
      "Precision: 0.96\n",
      "Recall: 0.96\n"
     ]
    }
   ],
   "source": [
    "# Обучение MLP (Multi-Layer Perceptron) нейронной сети\n",
    "mlp_params = {'hidden_layer_sizes': 366, 'max_iter': 626}\n",
    "mlp_model = MLPClassifier(**mlp_params)\n",
    "mlp_model.fit(X_train_scaled, y_train)\n",
    "\n",
    "# Прогноз на тестовых данных\n",
    "mlp_pred = mlp_model.predict(X_test_scaled)\n",
    "\n",
    "# Расчет метрик для MLP нейронной сети\n",
    "mlp_roc_auc = roc_auc_score(y_test, mlp_pred)\n",
    "mlp_accuracy = accuracy_score(y_test, mlp_pred)\n",
    "mlp_precision = precision_score(y_test, mlp_pred)\n",
    "mlp_recall = recall_score(y_test, mlp_pred)\n",
    "\n",
    "print(\"\\nMLP (Neural Network) метрики:\")\n",
    "print(f\"ROC AUC: {mlp_roc_auc:.2f}\")\n",
    "print(f\"Accuracy: {mlp_accuracy:.2f}\")\n",
    "print(f\"Precision: {mlp_precision:.2f}\")\n",
    "print(f\"Recall: {mlp_recall:.2f}\")"
   ]
  },
  {
   "cell_type": "markdown",
   "id": "d2d6eb00-77fd-40dc-a3c5-35c1fe0200c0",
   "metadata": {
    "id": "d2d6eb00-77fd-40dc-a3c5-35c1fe0200c0"
   },
   "source": [
    "## Экспериментируйте\n",
    "Для получения лучшего качества придется поэкспериментировать. Подсказка: попробуйте оптимизировать гиперпараметры модели"
   ]
  }
 ],
 "metadata": {
  "colab": {
   "provenance": []
  },
  "kernelspec": {
   "display_name": "Python 3",
   "language": "python",
   "name": "python3"
  },
  "language_info": {
   "codemirror_mode": {
    "name": "ipython",
    "version": 3
   },
   "file_extension": ".py",
   "mimetype": "text/x-python",
   "name": "python",
   "nbconvert_exporter": "python",
   "pygments_lexer": "ipython3",
   "version": "3.10.0"
  }
 },
 "nbformat": 4,
 "nbformat_minor": 5
}
